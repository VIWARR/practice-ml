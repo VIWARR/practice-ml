{
 "cells": [
  {
   "cell_type": "code",
   "execution_count": 1,
   "id": "f69dc778-c8bc-4c5d-8561-ca24aa5bbac1",
   "metadata": {},
   "outputs": [],
   "source": [
    "import numpy as np\n",
    "import pandas as pd\n",
    "\n",
    "from sklearn import datasets\n",
    "from sklearn.model_selection import train_test_split\n",
    "from sklearn.preprocessing import StandardScaler\n",
    "\n",
    "import matplotlib.pyplot as plt\n",
    "from matplotlib.colors import ListedColormap "
   ]
  },
  {
   "cell_type": "markdown",
   "id": "bce87e7f-a014-4aa0-958f-6a7233a8eb08",
   "metadata": {},
   "source": [
    "---"
   ]
  },
  {
   "cell_type": "markdown",
   "id": "359375d0-38f2-41cf-97e8-0030734bc139",
   "metadata": {},
   "source": [
    "#### Загружаем датасет. Определяем матрицу признаков X и векторный массив классов видов цветков y"
   ]
  },
  {
   "cell_type": "code",
   "execution_count": 2,
   "id": "77c873b6-32df-4131-9704-4a3952ccd95b",
   "metadata": {},
   "outputs": [],
   "source": [
    "iris = datasets.load_iris()\n",
    "X = iris.data[:, [2, 3]]\n",
    "y = iris.target"
   ]
  },
  {
   "cell_type": "markdown",
   "id": "246921bf-6850-4c16-9d8a-307e4ed737be",
   "metadata": {},
   "source": [
    "#### Разделяем данные на 30% тестовые и 70% обучающие"
   ]
  },
  {
   "cell_type": "code",
   "execution_count": 3,
   "id": "55cd181e-4778-4e6b-aaef-8bd68ef414b4",
   "metadata": {},
   "outputs": [],
   "source": [
    "X_train, X_test, y_train, y_test = train_test_split(\n",
    "    X, y, test_size=0.3, random_state=1, stratify=y\n",
    ")"
   ]
  },
  {
   "cell_type": "code",
   "execution_count": 4,
   "id": "a94d5d2c-9125-4b6f-9a98-9251c0eeb8a2",
   "metadata": {},
   "outputs": [
    {
     "name": "stdout",
     "output_type": "stream",
     "text": [
      "Количество меток в y: [50 50 50]\n",
      "Количество меток в y_train: [35 35 35]\n",
      "Количество меток в y_test: [15 15 15]\n",
      "\n"
     ]
    }
   ],
   "source": [
    "print(\n",
    "    f'Количество меток в y: {np.bincount(y)}\\n'\n",
    "    f'Количество меток в y_train: {np.bincount(y_train)}\\n'\n",
    "    f'Количество меток в y_test: {np.bincount(y_test)}\\n'\n",
    ")"
   ]
  },
  {
   "cell_type": "markdown",
   "id": "1a33356e-d38d-4adf-849c-2a86de8fd9f4",
   "metadata": {},
   "source": [
    "#### Визуализируем данные для обучения"
   ]
  },
  {
   "cell_type": "code",
   "execution_count": 5,
   "id": "b4e1fb0d-393f-4f0d-99a7-f5ce1d002e5a",
   "metadata": {},
   "outputs": [
    {
     "data": {
      "image/png": "[encoded data removed]",
      "text/plain": [
       "<Figure size 640x480 with 1 Axes>"
      ]
     },
     "metadata": {},
     "output_type": "display_data"
    }
   ],
   "source": [
    "plt.scatter(\n",
    "    X_train[y_train == 0, 0], X_train[y_train == 0, 1], \n",
    "    color='red', marker='o', label='Setosa'\n",
    ")\n",
    "\n",
    "plt.scatter(\n",
    "    X_train[y_train == 1, 0], X_train[y_train == 1, 1], \n",
    "    color='blue', marker='o', label='Versicolor'\n",
    ")\n",
    "\n",
    "plt.xlabel('Длина чашелистика [см]')\n",
    "plt.ylabel('Длина лепестка [см]')\n",
    "plt.legend(loc='upper left')\n",
    "plt.show()"
   ]
  },
  {
   "cell_type": "markdown",
   "id": "f26fe978-fcb3-48cb-b3c8-b3b4622c5b4d",
   "metadata": {},
   "source": [
    "---"
   ]
  },
  {
   "cell_type": "markdown",
   "id": "c4675c07-3ff4-40d4-a76a-24c390ddf3ca",
   "metadata": {},
   "source": [
    "#### Стандартизируем признаки\n",
    "\n",
    "``` z = (x - μ) / σ ```\n",
    "\n",
    "**Где:**\n",
    "- \\( x \\) — значение наблюдения, для которого вычисляется Z-оценка,\n",
    "- \\( μ \\) — среднее значение выборки,\n",
    "- \\( σ \\) — стандартное отклонение выборки.\n",
    "ти)."
   ]
  },
  {
   "cell_type": "code",
   "execution_count": 6,
   "id": "11b5d3bd-2688-42ff-ad6f-ec2eedf271ab",
   "metadata": {},
   "outputs": [],
   "source": [
    "sc = StandardScaler()\n",
    "sc.fit(X_train)\n",
    "X_train_std = sc.transform(X_train)\n",
    "X_test_std = sc.transform(X_test)"
   ]
  },
  {
   "cell_type": "markdown",
   "id": "bff016dd-8d95-432a-83c3-02f005e8ca8d",
   "metadata": {},
   "source": [
    "---"
   ]
  },
  {
   "cell_type": "markdown",
   "id": "126037a6-a82e-4f27-91db-b0d8f82d3c70",
   "metadata": {},
   "source": [
    "#### Функция визуализации области решений"
   ]
  },
  {
   "cell_type": "code",
   "execution_count": 7,
   "id": "350585d3-1f8b-49db-979f-bd470d6efe25",
   "metadata": {},
   "outputs": [],
   "source": [
    "def plot_decision_regions(X, y, classifier, test_idx=None, resolution=0.02):\n",
    "    # Настройка генератора меток и цветовой карты\n",
    "    markers = ('o', 's', '^', 'v', '<')\n",
    "    colors = ('red', 'blue', 'lightgreen', 'gray', 'cyan')\n",
    "    cmap = ListedColormap(colors[:len(np.unique(y))])\n",
    "\n",
    "    # Строим поверхность решений\n",
    "    x1_min, x1_max = X[:, 0].min() - 1, X[:, 0].max() + 1\n",
    "    x2_min, x2_max = X[:, 1].min() - 1, X[:, 1].max() + 1\n",
    "    xx1, xx2 = np.meshgrid(np.arange(x1_min, x1_max, resolution), np.arange(x2_min, x2_max, resolution))\n",
    "\n",
    "    # Прогнозируем классы для всех точек на сетке\n",
    "    lab = classifier.predict(np.array([xx1.ravel(), xx2.ravel()]).T)\n",
    "    lab = lab.reshape(xx1.shape)\n",
    "\n",
    "    # Отображаем области решения\n",
    "    plt.contourf(xx1, xx2, lab, alpha=0.3, cmap=cmap)\n",
    "    plt.xlim(xx1.min(), xx1.max())\n",
    "    plt.ylim(xx2.min(), xx2.max())\n",
    "\n",
    "    # Отображаем точки данных\n",
    "    for idx, cl in enumerate(np.unique(y)):\n",
    "        plt.scatter(x=X[y == cl, 0],\n",
    "                    y=X[y == cl, 1],\n",
    "                    alpha=0.8,\n",
    "                    c=colors[idx],\n",
    "                    marker=markers[idx],\n",
    "                    label=f'Class {cl}',\n",
    "                    edgecolor='black')\n",
    "\n",
    "    # Если есть индексы тестовых данных, отображаем их\n",
    "    if test_idx:\n",
    "        X_test, y_test = X[test_idx, :], y[test_idx]\n",
    "        plt.scatter(X_test[:, 0], X_test[:, 1],\n",
    "                    c='none', edgecolor='black', alpha=1.0,\n",
    "                    linewidth=1, marker='o',\n",
    "                    s=100, label='Test set')"
   ]
  },
  {
   "cell_type": "markdown",
   "id": "c3204187-c659-47ad-b10b-b81eb3784240",
   "metadata": {},
   "source": [
    "#### Объединяем тренировочные и тестовые данные "
   ]
  },
  {
   "cell_type": "code",
   "execution_count": 8,
   "id": "4813e97e-deb6-48ef-98d0-7a99a64e6c55",
   "metadata": {},
   "outputs": [],
   "source": [
    "X_combined_std = np.vstack((X_train_std, X_test_std))\n",
    "y_combined = np.hstack((y_train, y_test))\n",
    "X_combined = np.vstack((X_train, X_test))"
   ]
  }
 ],
 "metadata": {
  "kernelspec": {
   "display_name": "Python 3 (ipykernel)",
   "language": "python",
   "name": "python3"
  },
  "language_info": {
   "codemirror_mode": {
    "name": "ipython",
    "version": 3
   },
   "file_extension": ".py",
   "mimetype": "text/x-python",
   "name": "python",
   "nbconvert_exporter": "python",
   "pygments_lexer": "ipython3",
   "version": "3.11.6"
  }
 },
 "nbformat": 4,
 "nbformat_minor": 5
}
